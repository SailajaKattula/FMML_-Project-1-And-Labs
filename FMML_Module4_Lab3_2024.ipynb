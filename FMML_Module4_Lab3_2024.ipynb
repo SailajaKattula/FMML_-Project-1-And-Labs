{
  "nbformat": 4,
  "nbformat_minor": 0,
  "metadata": {
    "colab": {
      "provenance": [],
      "include_colab_link": true
    },
    "kernelspec": {
      "name": "python3",
      "display_name": "Python 3"
    },
    "language_info": {
      "name": "python"
    }
  },
  "cells": [
    {
      "cell_type": "markdown",
      "metadata": {
        "id": "view-in-github",
        "colab_type": "text"
      },
      "source": [
        "<a href=\"https://colab.research.google.com/github/SailajaKattula/FMML_-Project-1-And-Labs/blob/main/FMML_Module4_Lab3_2024.ipynb\" target=\"_parent\"><img src=\"https://colab.research.google.com/assets/colab-badge.svg\" alt=\"Open In Colab\"/></a>"
      ]
    },
    {
      "cell_type": "markdown",
      "source": [
        "# FOUNDATIONS OF MODERN MACHINE LEARNING, IIIT Hyderabad\n",
        "# Module 4: Perceptron and Gradient Descent\n",
        "## Lab 3: Gradient Descent\n",
        "\n",
        "Gradient descent is a very important algorithm to understand, as it underpins many of the more advanced algorithms used in Machine Learning and Deep Learning.\n",
        "\n",
        "A brief overview of the algorithm is\n",
        "\n",
        "\n",
        "*   start with a random initialization of the solution.\n",
        "*   incrementally change the solution by moving in the direction of negative gradient of the objective function.\n",
        "*   repeat the previous step until some convergence criteria is met.\n",
        "\n",
        "The key equation for change in weight is:\n",
        "$$w^{k+1} \\leftarrow w^k - \\eta \\Delta J$$\n",
        "\n",
        "In this lab, we will discuss stochastic gradient descent, mini-batch gradient descent and batch gradient descent.\n"
      ],
      "metadata": {
        "id": "XYxxkQg6xCjD"
      }
    },
    {
      "cell_type": "code",
      "metadata": {
        "id": "Fr-MnaGs7JmZ"
      },
      "source": [
        "import numpy as np\n",
        "import matplotlib.pyplot as plt"
      ],
      "execution_count": null,
      "outputs": []
    },
    {
      "cell_type": "code",
      "metadata": {
        "id": "7ob_zZms7VOu"
      },
      "source": [
        "np.random.seed(42)"
      ],
      "execution_count": null,
      "outputs": []
    },
    {
      "cell_type": "markdown",
      "metadata": {
        "id": "v4Kix4bcChiy"
      },
      "source": [
        "# Creating the Data\n",
        "\n",
        "Let's generate some data with:\n",
        "\\begin{equation} y_0= 4 \\end{equation}\n",
        "\\begin{equation} y_1= 3 \\end{equation}\n",
        "\n",
        "and also add some noise to the data."
      ]
    },
    {
      "cell_type": "code",
      "metadata": {
        "id": "MtAS7eFZ9hX6"
      },
      "source": [
        "X = 2 * np.random.rand(100, 1)\n",
        "y = 4 + 3 * X + np.random.randn(100, 1)"
      ],
      "execution_count": null,
      "outputs": []
    },
    {
      "cell_type": "markdown",
      "metadata": {
        "id": "zD95NaF-CxM-"
      },
      "source": [
        "Let's also plot the data we just created"
      ]
    },
    {
      "cell_type": "code",
      "metadata": {
        "colab": {
          "base_uri": "https://localhost:8080/"
        },
        "id": "3IiEP4BQ7Wja",
        "outputId": "7da510e2-ef72-4d76-8bb8-5a3f7d26a1a6"
      },
      "source": [
        "plt.plot(X, y, 'b.')\n",
        "plt.xlabel('x')\n",
        "plt.ylabel('y', rotation=0)"
      ],
      "execution_count": null,
      "outputs": [
        {
          "output_type": "execute_result",
          "data": {
            "text/plain": [
              "Text(0, 0.5, 'y')"
            ]
          },
          "metadata": {},
          "execution_count": 42
        },
        {
          "output_type": "display_data",
          "data": {
            "text/plain": [
              "<Figure size 640x480 with 1 Axes>"
            ],
            "image/png": "[encoded data removed]"
          },
          "metadata": {}
        }
      ]
    },
    {
      "cell_type": "markdown",
      "metadata": {
        "id": "ScwxpouoDDyZ"
      },
      "source": [
        "## Cost Function\n",
        "\n",
        "The equation for calculating cost function is as shown below. The cost function is only for linear regression. For other algorithms, the cost function will be different and the gradients would have to be derived from the cost functions\n",
        "\n",
        "\\begin{equation}\n",
        "J(y_{pred}) = \\frac{1}{2} m \\sum_{i=1}^{m} (h(y_{pred})^{(i)} - y^{(i)})^2\n",
        "\\end{equation}"
      ]
    },
    {
      "cell_type": "code",
      "metadata": {
        "id": "PUeTUAXH7ZaV"
      },
      "source": [
        "def cal_cost(y_pred, X, y):\n",
        "    '''\n",
        "    Calculates the cost for given X and Y.\n",
        "    y_pred = Vector of y_preds\n",
        "    X = Row of X's np.zeros((2, j))\n",
        "    y = Actual y's np.zeros((2, 1))\n",
        "\n",
        "    where:\n",
        "        j is the no of features\n",
        "    '''\n",
        "\n",
        "    m = len(y)\n",
        "\n",
        "    predictions = X.dot(y_pred)\n",
        "    cost = (1 / 2 * m) * np.sum(np.square(predictions - y))\n",
        "\n",
        "    return cost"
      ],
      "execution_count": null,
      "outputs": []
    },
    {
      "cell_type": "markdown",
      "metadata": {
        "id": "FcXqsVNpDbKC"
      },
      "source": [
        "## Gradients\n",
        "\n",
        "\\begin{equation}\n",
        "y_{pred_0}: = y_{pred_0} -\\alpha . (1/m .\\sum_{i=1}^{m}(h(y_{pred}^{(i)} - y^{(i)}).X_0^{(i)})\n",
        "\\end{equation}\n",
        "\\begin{equation}\n",
        "y_{pred_1}: = y_{pred_1} -\\alpha . (1/m .\\sum_{i=1}^{m}(h(y_{pred}^{(i)} - y^{(i)}).X_0^{(i)})\n",
        "\\end{equation}\n",
        ".\n",
        "\n",
        ".\n",
        "\n",
        ".\n",
        "\n",
        ".\n",
        "\n",
        "\\begin{equation}\n",
        "y_{pred_j}: = y_{pred_j} -\\alpha . (1/m .\\sum_{i=1}^{m}(h(y_{pred}^{(i)} - y^{(i)}).X_0^{(i)})\n",
        "\\end{equation}"
      ]
    },
    {
      "cell_type": "code",
      "metadata": {
        "id": "fwxBFXP88NBW"
      },
      "source": [
        "def gradient_descent(X, y, y_pred, learning_rate=0.01, iterations=100):\n",
        "    '''\n",
        "    X = Matrix of X with added bias units\n",
        "    y = Vector of Y\n",
        "    y_pred = Vector of y_preds np.random.randn(j, 1)\n",
        "    learning_rate\n",
        "    iterations = no of iterations\n",
        "\n",
        "    Returns the final y_pred vector and array of cost history over no of iterations\n",
        "    '''\n",
        "\n",
        "    m = len(y)\n",
        "    cost_history = np.zeros(iterations)\n",
        "    y_pred_history = np.zeros((iterations, 2))\n",
        "\n",
        "    for it in range(iterations):\n",
        "        prediction = np.dot(X, y_pred)\n",
        "        y_pred = y_pred - (1 / m) * learning_rate * (X.T.dot((prediction - y)))\n",
        "        y_pred_history[it,:] = y_pred.T\n",
        "        cost_history[it]  = cal_cost(y_pred, X, y)\n",
        "\n",
        "    return y_pred, cost_history, y_pred_history"
      ],
      "execution_count": null,
      "outputs": []
    },
    {
      "cell_type": "markdown",
      "metadata": {
        "id": "1iSohSB2EtK1"
      },
      "source": [
        "Let's do 1000 iterations with a learning rate of 0.01.\n",
        "We will start with a random prediction."
      ]
    },
    {
      "cell_type": "code",
      "metadata": {
        "colab": {
          "base_uri": "https://localhost:8080/"
        },
        "id": "18AX7hrU8bv5",
        "outputId": "967bde4b-2301-4503-a28b-b67830a582e2"
      },
      "source": [
        "lr = 0.01\n",
        "n_iter = 1000\n",
        "\n",
        "y_pred = np.random.randn(2,1)\n",
        "X_b = np.c_[np.ones((len(X), 1)), X]\n",
        "y_pred, cost_history, y_pred_history = gradient_descent(X_b, y, y_pred, lr, n_iter)\n",
        "\n",
        "print('y_pred[0]: {:0.3f}\\ny_pred[1]: {:0.3f}'.format(y_pred[0][0], y_pred[1][0]))\n",
        "print('Final error: {:0.3f}'.format(cost_history[-1]))"
      ],
      "execution_count": null,
      "outputs": [
        {
          "output_type": "stream",
          "name": "stdout",
          "text": [
            "y_pred[0]: 3.833\n",
            "y_pred[1]: 3.155\n",
            "Final error: 3887.325\n"
          ]
        }
      ]
    },
    {
      "cell_type": "markdown",
      "metadata": {
        "id": "m7fao2MaE216"
      },
      "source": [
        "Plotting the error vs Number of iterations"
      ]
    },
    {
      "cell_type": "code",
      "metadata": {
        "colab": {
          "base_uri": "https://localhost:8080/"
        },
        "id": "DrkrAAbk8hIs",
        "outputId": "bd7aa85f-6a2f-4f89-b275-210d9c8257bc"
      },
      "source": [
        "fig, ax = plt.subplots(figsize=(12,8))\n",
        "\n",
        "ax.set_ylabel('Error')\n",
        "ax.set_xlabel('Number of iterations')\n",
        "\n",
        "ax.plot(range(n_iter), cost_history, 'b.')"
      ],
      "execution_count": null,
      "outputs": [
        {
          "output_type": "execute_result",
          "data": {
            "text/plain": [
              "[<matplotlib.lines.Line2D at 0x7862e918ccd0>]"
            ]
          },
          "metadata": {},
          "execution_count": 46
        },
        {
          "output_type": "display_data",
          "data": {
            "text/plain": [
              "<Figure size 1200x800 with 1 Axes>"
            ],
            "image/png": "[encoded data removed]"
          },
          "metadata": {}
        }
      ]
    },
    {
      "cell_type": "markdown",
      "metadata": {
        "id": "IG5tWAy-FCaW"
      },
      "source": [
        "Zooming in..."
      ]
    },
    {
      "cell_type": "code",
      "metadata": {
        "colab": {
          "base_uri": "https://localhost:8080/"
        },
        "id": "WZ7BoFHy8kTk",
        "outputId": "2afa3bd5-1156-401d-e9e6-60355b96e62c"
      },
      "source": [
        "fig,ax = plt.subplots(figsize=(10,8))\n",
        "ax.plot(range(200), cost_history[:200], 'b.')"
      ],
      "execution_count": null,
      "outputs": [
        {
          "output_type": "execute_result",
          "data": {
            "text/plain": [
              "[<matplotlib.lines.Line2D at 0x7862e8ffed40>]"
            ]
          },
          "metadata": {},
          "execution_count": 47
        },
        {
          "output_type": "display_data",
          "data": {
            "text/plain": [
              "<Figure size 1000x800 with 1 Axes>"
            ],
            "image/png": "[encoded data removed]"
          },
          "metadata": {}
        }
      ]
    },
    {
      "cell_type": "markdown",
      "metadata": {
        "id": "JYhOp3fjnh2G"
      },
      "source": [
        "# Stochastic Gradient Descent"
      ]
    },
    {
      "cell_type": "markdown",
      "source": [
        "In Batch Gradient Descent we were considering all the examples for every step of Gradient Descent. But what if our dataset is very huge. Deep learning models crave for data. The more the data the more chances of a model to be good. Suppose our dataset has 5 million examples, then just to take one step the model will have to calculate the gradients of all the 5 million examples. This does not seem an efficient way. To tackle this problem we have Stochastic Gradient Descent. In Stochastic Gradient Descent (SGD), we consider just one example at a time to take a single step."
      ],
      "metadata": {
        "id": "10N2dcwWUctJ"
      }
    },
    {
      "cell_type": "code",
      "metadata": {
        "id": "aVwD7Cqw8m1d"
      },
      "source": [
        "def stocashtic_gradient_descent(X, y, y_pred, learning_rate=0.01, iterations=10):\n",
        "    '''\n",
        "    X = Matrix of X with added bias units\n",
        "    y = Vector of Y\n",
        "    y_pred = Vector of y_pred np.random.randn(j,1)\n",
        "    learning_rate\n",
        "    iterations = no of iterations\n",
        "\n",
        "    Returns the final y_pred vector and array of cost history over no of iterations\n",
        "    '''\n",
        "\n",
        "    m = len(y)\n",
        "    cost_history = np.zeros(iterations)\n",
        "\n",
        "    for it in range(iterations):\n",
        "        cost = 0.0\n",
        "\n",
        "        for i in range(m):\n",
        "            rand_ind = np.random.randint(0,m)\n",
        "            X_i = X[rand_ind, :].reshape(1, X.shape[1])\n",
        "            y_i = y[rand_ind].reshape(1,1)\n",
        "            prediction = np.dot(X_i, y_pred)\n",
        "\n",
        "            y_pred = y_pred - (1 / m) * learning_rate *(X_i.T.dot((prediction - y_i)))\n",
        "            cost += cal_cost(y_pred, X_i, y_i)\n",
        "\n",
        "        cost_history[it]  = cost\n",
        "\n",
        "    return y_pred, cost_history"
      ],
      "execution_count": null,
      "outputs": []
    },
    {
      "cell_type": "code",
      "metadata": {
        "colab": {
          "base_uri": "https://localhost:8080/"
        },
        "id": "Yk6pfB5c8tPz",
        "outputId": "f9c1d72c-80f7-467a-82cb-321bfbfbf118"
      },
      "source": [
        "lr = 0.5\n",
        "n_iter = 50\n",
        "y_pred = np.random.randn(2, 1)\n",
        "X_b = np.c_[np.ones((len(X), 1)), X]\n",
        "y_pred, cost_history = stocashtic_gradient_descent(X_b, y, y_pred, lr, n_iter)\n",
        "\n",
        "print('y_pred[0]: {:0.3f}\\ny_pred[1]: {:0.3f}'.format(y_pred[0][0], y_pred[1][0]))\n",
        "print('Final error: {:0.3f}'.format(cost_history[-1]))"
      ],
      "execution_count": null,
      "outputs": [
        {
          "output_type": "stream",
          "name": "stdout",
          "text": [
            "y_pred[0]: 3.893\n",
            "y_pred[1]: 3.146\n",
            "Final error: 37.487\n"
          ]
        }
      ]
    },
    {
      "cell_type": "code",
      "metadata": {
        "colab": {
          "base_uri": "https://localhost:8080/",
          "height": 663
        },
        "id": "YiJUgS7o8u2e",
        "outputId": "974e62b2-df50-4a0c-aaac-dc8df95ae849"
      },
      "source": [
        "fig, ax = plt.subplots(figsize=(10,8))\n",
        "\n",
        "ax.set_ylabel('Error')\n",
        "ax.set_xlabel('Number of iterations')\n",
        "y_pred = np.random.randn(2,1)\n",
        "\n",
        "ax.plot(range(n_iter), cost_history, 'b.')"
      ],
      "execution_count": null,
      "outputs": [
        {
          "output_type": "execute_result",
          "data": {
            "text/plain": [
              "[<matplotlib.lines.Line2D at 0x7862e90926e0>]"
            ]
          },
          "metadata": {},
          "execution_count": 50
        },
        {
          "output_type": "display_data",
          "data": {
            "text/plain": [
              "<Figure size 1000x800 with 1 Axes>"
            ],
            "image/png": "[encoded data removed]"
          },
          "metadata": {}
        }
      ]
    },
    {
      "cell_type": "markdown",
      "metadata": {
        "id": "ScckWktynk1o"
      },
      "source": [
        "# Mini Batch Gradient Descent"
      ]
    },
    {
      "cell_type": "markdown",
      "source": [
        "We have seen the Batch Gradient Descent. We have also seen the Stochastic Gradient Descent. Batch Gradient Descent can be used for smoother curves. SGD can be used when the dataset is large. Batch Gradient Descent converges directly to minima. SGD converges faster for larger datasets. But, since in SGD we use only one example at a time, we cannot implement the vectorized implementation on it. This can slow down the computations. To tackle this problem, a mixture of Batch Gradient Descent and SGD is used.\n",
        "Neither we use all the dataset all at once nor we use the single example at a time. We use a batch of a fixed number of training examples which is less than the actual dataset and call it a mini-batch. Doing this helps us achieve the advantages of both the former variants we saw."
      ],
      "metadata": {
        "id": "ZTVz-QssUkuE"
      }
    },
    {
      "cell_type": "code",
      "metadata": {
        "id": "4JtxFVL78wEm"
      },
      "source": [
        "def minibatch_gradient_descent(X, y, y_pred, learning_rate=0.01, iterations=10, batch_size=20):\n",
        "    '''\n",
        "    X = Matrix of X without added bias units\n",
        "    y = Vector of Y\n",
        "    y_pred = Vector of y_preds np.random.randn(j, 1)\n",
        "    learning_rate\n",
        "    iterations = no of iterations\n",
        "\n",
        "    Returns the final theta vector and array of cost history over no of iterations\n",
        "    '''\n",
        "\n",
        "    m = len(y)\n",
        "    cost_history = np.zeros(iterations)\n",
        "    n_batches = int(m / batch_size)\n",
        "\n",
        "    for it in range(iterations):\n",
        "        cost = 0.0\n",
        "        indices = np.random.permutation(m)\n",
        "        X = X[indices]\n",
        "        y = y[indices]\n",
        "\n",
        "        for i in range(0, m, batch_size):\n",
        "            X_i = X[i: i + batch_size]\n",
        "            y_i = y[i: i + batch_size]\n",
        "\n",
        "            X_i = np.c_[np.ones(len(X_i)), X_i]\n",
        "            prediction = np.dot(X_i, y_pred)\n",
        "\n",
        "            y_pred = y_pred - (1 / m) * learning_rate * (X_i.T.dot((prediction - y_i)))\n",
        "            cost += cal_cost(y_pred, X_i, y_i)\n",
        "\n",
        "        cost_history[it]  = cost\n",
        "\n",
        "    return y_pred, cost_history"
      ],
      "execution_count": null,
      "outputs": []
    },
    {
      "cell_type": "code",
      "metadata": {
        "colab": {
          "base_uri": "https://localhost:8080/"
        },
        "id": "SpbsVwA28znL",
        "outputId": "dc1b4541-6365-4344-8154-ee7a7d3ee0f6"
      },
      "source": [
        "lr = 0.1\n",
        "n_iter = 200\n",
        "y_pred = np.random.randn(2,1)\n",
        "y_pred, cost_history = minibatch_gradient_descent(X, y, y_pred, lr, n_iter)\n",
        "\n",
        "print('y_pred[0]: {:0.3f}\\ny_pred[1]: {:0.3f}'.format(y_pred[0][0], y_pred[1][0]))\n",
        "print('Final error: {:0.3f}'.format(cost_history[-1]))"
      ],
      "execution_count": null,
      "outputs": [
        {
          "output_type": "stream",
          "name": "stdout",
          "text": [
            "y_pred[0]: 3.912\n",
            "y_pred[1]: 3.091\n",
            "Final error: 773.950\n"
          ]
        }
      ]
    },
    {
      "cell_type": "code",
      "metadata": {
        "colab": {
          "base_uri": "https://localhost:8080/",
          "height": 650
        },
        "id": "Q_ivOYHT817C",
        "outputId": "0f0289a6-7b33-40df-e36a-8323716d891f"
      },
      "source": [
        "fig, ax = plt.subplots(figsize=(10,8))\n",
        "\n",
        "ax.set_ylabel('Error')\n",
        "ax.set_xlabel('Number of iterations')\n",
        "y_pred = np.random.randn(2,1)\n",
        "\n",
        "ax.plot(range(n_iter), cost_history, 'b.')"
      ],
      "execution_count": null,
      "outputs": [
        {
          "output_type": "execute_result",
          "data": {
            "text/plain": [
              "[<matplotlib.lines.Line2D at 0x7862e8efebf0>]"
            ]
          },
          "metadata": {},
          "execution_count": 53
        },
        {
          "output_type": "display_data",
          "data": {
            "text/plain": [
              "<Figure size 1000x800 with 1 Axes>"
            ],
            "image/png": "[encoded data removed]"
          },
          "metadata": {}
        }
      ]
    },
    {
      "cell_type": "code",
      "metadata": {
        "id": "3Sn1erIU83ck"
      },
      "source": [],
      "execution_count": null,
      "outputs": []
    },
    {
      "cell_type": "markdown",
      "source": [
        "Things to try out:\n",
        "\n",
        "1. Change batch size in mini-batch gradient descent.\n",
        "2. Test all the three out on real datasets.\n",
        "3. Compare the effects of changing learning rate by the same amount in Batch GD, SGD and Mini-batch GD."
      ],
      "metadata": {
        "id": "0neTARjKUoP4"
      }
    },
    {
      "cell_type": "markdown",
      "source": [
        "**ANSWER 1 :**\n",
        "\n",
        " Change Batch Size in Mini-batch Gradient Descent:\n",
        "In gradient descent optimization algorithms, the batch size is a hyperparameter that determines the number of training samples used in each iteration. There are three main types of gradient descent based on the batch size: Batch Gradient Descent (BGD), Stochastic Gradient Descent (SGD), and Mini-batch Gradient Descent.\n",
        "\n",
        "Batch Gradient Descent (BGD):\n",
        "\n",
        "Batch size is equal to the total number of training examples.\n",
        "The weight updates are computed using the entire dataset.\n",
        "Stochastic Gradient Descent (SGD):\n",
        "\n",
        "Batch size is set to 1.\n",
        "Weight updates are computed using only one training example at a time.\n",
        "Mini-batch Gradient Descent:\n",
        "\n",
        "Batch size is between 1 and the total number of training examples.\n",
        "Weight updates are computed using a subset of the training data.\n",
        "To observe the effect of changing the batch size in Mini-batch Gradient Descent, you can experiment with different batch sizes and observe the impact on training speed, convergence, and possibly generalization"
      ],
      "metadata": {
        "id": "01zHbfV2Gx3l"
      }
    },
    {
      "cell_type": "markdown",
      "source": [
        "**ANSWER 2 :**\n",
        "\n",
        " Test All Three on Real Datasets:\n",
        "To test these algorithms on real datasets:\n",
        "\n",
        "Select a dataset relevant to your problem.\n",
        "Split the dataset into training, validation, and test sets.\n",
        "Implement the three gradient descent algorithms (Batch GD, SGD, Mini-batch GD) in your preferred programming language using a machine learning library (e.g., TensorFlow, PyTorch).\n",
        "Train your model using each algorithm and evaluate their performance on the validation and test sets."
      ],
      "metadata": {
        "id": "EP7RgEc6HMdr"
      }
    },
    {
      "cell_type": "markdown",
      "source": [
        "**ANSWER 3 :**\n",
        "\n",
        " Compare the Effects of Changing Learning Rate:\n",
        "Learning rate is a crucial hyperparameter that controls the step size during the optimization process. To compare the effects of changing the learning rate in Batch GD, SGD, and Mini-batch GD:\n",
        "\n",
        "Choose a fixed set of learning rates (e.g., 0.01, 0.1, 0.001).\n",
        "Train your models using each gradient descent algorithm with different learning rates.\n",
        "Observe and compare the convergence behavior, training time, and final performance metrics for each combination of algorithm and learning rate.\n",
        "Remember to monitor key metrics such as training loss, validation loss, and possibly accuracy to understand the impact of changes in batch size and learning rate.\n",
        "\n",
        "It's important to note that the optimal hyperparameters (batch size, learning rate) may vary depending on the specific problem and dataset, so experimentation and tuning are crucial."
      ],
      "metadata": {
        "id": "govY2pRzHYRC"
      }
    },
    {
      "cell_type": "code",
      "source": [
        "import tensorflow as tf\n",
        "from sklearn.datasets import make_regression\n",
        "from sklearn.model_selection import train_test_split\n",
        "from sklearn.preprocessing import StandardScaler\n",
        "\n",
        "X, y = make_regression(n_samples=1000, n_features=1, noise=0.1, random_state=42)\n",
        "\n",
        "\n",
        "X_train, X_test, y_train, y_test = train_test_split(X, y, test_size=0.2, random_state=42)\n",
        "\n",
        "\n",
        "scaler = StandardScaler()\n",
        "X_train = scaler.fit_transform(X_train)\n",
        "X_test = scaler.transform(X_test)\n",
        "model = tf.keras.Sequential([\n",
        "    tf.keras.layers.Input(shape=(1,)),\n",
        "    tf.keras.layers.Dense(1)\n",
        "])\n",
        "\n",
        "model.compile(optimizer='sgd', loss='mean_squared_error')\n",
        "\n",
        "\n",
        "batch_sizes = [1, 32, 256]\n",
        "for batch_size in batch_sizes:\n",
        "    print(f\"\\nTraining with batch size: {batch_size}\")\n",
        "    model.fit(X_train, y_train, epochs=10, batch_size=batch_size, verbose=2)\n",
        "\n",
        "\n",
        "learning_rates = [0.1, 0.01, 0.001]\n",
        "for lr in learning_rates:\n",
        "    print(f\"\\nTraining with learning rate: {lr}\")\n",
        "    model.compile(optimizer=tf.keras.optimizers.SGD(learning_rate=lr), loss='mean_squared_error')\n",
        "    model.fit(X_train, y_train, epochs=10, batch_size=32, verbose=2)\n",
        "\n",
        "\n",
        "test_loss = model.evaluate(X_test, y_test, verbose=0)\n",
        "print(f\"\\nTest Loss: {test_loss}\")"
      ],
      "metadata": {
        "id": "Orjjfn9sHtai",
        "outputId": "98e01155-425b-4238-825f-4d40d357f64f",
        "colab": {
          "base_uri": "https://localhost:8080/"
        }
      },
      "execution_count": null,
      "outputs": [
        {
          "output_type": "stream",
          "name": "stdout",
          "text": [
            "\n",
            "Training with batch size: 1\n",
            "Epoch 1/10\n",
            "800/800 - 1s - loss: 7.5062 - 1s/epoch - 2ms/step\n",
            "Epoch 2/10\n",
            "800/800 - 1s - loss: 0.0098 - 1s/epoch - 2ms/step\n",
            "Epoch 3/10\n",
            "800/800 - 2s - loss: 0.0097 - 2s/epoch - 2ms/step\n",
            "Epoch 4/10\n",
            "800/800 - 1s - loss: 0.0097 - 807ms/epoch - 1ms/step\n",
            "Epoch 5/10\n",
            "800/800 - 1s - loss: 0.0098 - 827ms/epoch - 1ms/step\n",
            "Epoch 6/10\n",
            "800/800 - 1s - loss: 0.0099 - 848ms/epoch - 1ms/step\n",
            "Epoch 7/10\n",
            "800/800 - 1s - loss: 0.0097 - 815ms/epoch - 1ms/step\n",
            "Epoch 8/10\n",
            "800/800 - 1s - loss: 0.0098 - 821ms/epoch - 1ms/step\n",
            "Epoch 9/10\n",
            "800/800 - 1s - loss: 0.0097 - 799ms/epoch - 999us/step\n",
            "Epoch 10/10\n",
            "800/800 - 1s - loss: 0.0097 - 816ms/epoch - 1ms/step\n",
            "\n",
            "Training with batch size: 32\n",
            "Epoch 1/10\n",
            "25/25 - 0s - loss: 0.0096 - 184ms/epoch - 7ms/step\n",
            "Epoch 2/10\n",
            "25/25 - 0s - loss: 0.0096 - 32ms/epoch - 1ms/step\n",
            "Epoch 3/10\n",
            "25/25 - 0s - loss: 0.0096 - 46ms/epoch - 2ms/step\n",
            "Epoch 4/10\n",
            "25/25 - 0s - loss: 0.0096 - 38ms/epoch - 2ms/step\n",
            "Epoch 5/10\n",
            "25/25 - 0s - loss: 0.0096 - 32ms/epoch - 1ms/step\n",
            "Epoch 6/10\n",
            "25/25 - 0s - loss: 0.0096 - 33ms/epoch - 1ms/step\n",
            "Epoch 7/10\n",
            "25/25 - 0s - loss: 0.0096 - 36ms/epoch - 1ms/step\n",
            "Epoch 8/10\n",
            "25/25 - 0s - loss: 0.0096 - 36ms/epoch - 1ms/step\n",
            "Epoch 9/10\n",
            "25/25 - 0s - loss: 0.0096 - 36ms/epoch - 1ms/step\n",
            "Epoch 10/10\n",
            "25/25 - 0s - loss: 0.0096 - 33ms/epoch - 1ms/step\n",
            "\n",
            "Training with batch size: 256\n",
            "Epoch 1/10\n",
            "4/4 - 0s - loss: 0.0096 - 18ms/epoch - 5ms/step\n",
            "Epoch 2/10\n",
            "4/4 - 0s - loss: 0.0096 - 16ms/epoch - 4ms/step\n",
            "Epoch 3/10\n",
            "4/4 - 0s - loss: 0.0096 - 19ms/epoch - 5ms/step\n",
            "Epoch 4/10\n",
            "4/4 - 0s - loss: 0.0096 - 16ms/epoch - 4ms/step\n",
            "Epoch 5/10\n",
            "4/4 - 0s - loss: 0.0096 - 15ms/epoch - 4ms/step\n",
            "Epoch 6/10\n",
            "4/4 - 0s - loss: 0.0096 - 21ms/epoch - 5ms/step\n",
            "Epoch 7/10\n",
            "4/4 - 0s - loss: 0.0096 - 23ms/epoch - 6ms/step\n",
            "Epoch 8/10\n",
            "4/4 - 0s - loss: 0.0096 - 19ms/epoch - 5ms/step\n",
            "Epoch 9/10\n",
            "4/4 - 0s - loss: 0.0096 - 17ms/epoch - 4ms/step\n",
            "Epoch 10/10\n",
            "4/4 - 0s - loss: 0.0096 - 20ms/epoch - 5ms/step\n",
            "\n",
            "Training with learning rate: 0.1\n",
            "Epoch 1/10\n",
            "25/25 - 0s - loss: 0.0097 - 341ms/epoch - 14ms/step\n",
            "Epoch 2/10\n",
            "25/25 - 0s - loss: 0.0097 - 51ms/epoch - 2ms/step\n",
            "Epoch 3/10\n",
            "25/25 - 0s - loss: 0.0097 - 52ms/epoch - 2ms/step\n",
            "Epoch 4/10\n",
            "25/25 - 0s - loss: 0.0096 - 50ms/epoch - 2ms/step\n",
            "Epoch 5/10\n",
            "25/25 - 0s - loss: 0.0096 - 47ms/epoch - 2ms/step\n",
            "Epoch 6/10\n",
            "25/25 - 0s - loss: 0.0097 - 52ms/epoch - 2ms/step\n",
            "Epoch 7/10\n",
            "25/25 - 0s - loss: 0.0097 - 44ms/epoch - 2ms/step\n",
            "Epoch 8/10\n",
            "25/25 - 0s - loss: 0.0096 - 43ms/epoch - 2ms/step\n",
            "Epoch 9/10\n",
            "25/25 - 0s - loss: 0.0097 - 46ms/epoch - 2ms/step\n",
            "Epoch 10/10\n",
            "25/25 - 0s - loss: 0.0096 - 48ms/epoch - 2ms/step\n",
            "\n",
            "Training with learning rate: 0.01\n",
            "Epoch 1/10\n",
            "25/25 - 0s - loss: 0.0096 - 361ms/epoch - 14ms/step\n",
            "Epoch 2/10\n",
            "25/25 - 0s - loss: 0.0096 - 50ms/epoch - 2ms/step\n",
            "Epoch 3/10\n",
            "25/25 - 0s - loss: 0.0096 - 52ms/epoch - 2ms/step\n",
            "Epoch 4/10\n",
            "25/25 - 0s - loss: 0.0096 - 44ms/epoch - 2ms/step\n",
            "Epoch 5/10\n",
            "25/25 - 0s - loss: 0.0096 - 53ms/epoch - 2ms/step\n",
            "Epoch 6/10\n",
            "25/25 - 0s - loss: 0.0096 - 51ms/epoch - 2ms/step\n",
            "Epoch 7/10\n",
            "25/25 - 0s - loss: 0.0096 - 46ms/epoch - 2ms/step\n",
            "Epoch 8/10\n",
            "25/25 - 0s - loss: 0.0096 - 54ms/epoch - 2ms/step\n",
            "Epoch 9/10\n",
            "25/25 - 0s - loss: 0.0096 - 40ms/epoch - 2ms/step\n",
            "Epoch 10/10\n",
            "25/25 - 0s - loss: 0.0096 - 40ms/epoch - 2ms/step\n",
            "\n",
            "Training with learning rate: 0.001\n",
            "Epoch 1/10\n",
            "25/25 - 0s - loss: 0.0096 - 367ms/epoch - 15ms/step\n",
            "Epoch 2/10\n",
            "25/25 - 0s - loss: 0.0096 - 56ms/epoch - 2ms/step\n",
            "Epoch 3/10\n",
            "25/25 - 0s - loss: 0.0096 - 44ms/epoch - 2ms/step\n",
            "Epoch 4/10\n",
            "25/25 - 0s - loss: 0.0096 - 43ms/epoch - 2ms/step\n",
            "Epoch 5/10\n",
            "25/25 - 0s - loss: 0.0096 - 53ms/epoch - 2ms/step\n",
            "Epoch 6/10\n",
            "25/25 - 0s - loss: 0.0096 - 44ms/epoch - 2ms/step\n",
            "Epoch 7/10\n",
            "25/25 - 0s - loss: 0.0096 - 49ms/epoch - 2ms/step\n",
            "Epoch 8/10\n",
            "25/25 - 0s - loss: 0.0096 - 50ms/epoch - 2ms/step\n",
            "Epoch 9/10\n",
            "25/25 - 0s - loss: 0.0096 - 41ms/epoch - 2ms/step\n",
            "Epoch 10/10\n",
            "25/25 - 0s - loss: 0.0096 - 34ms/epoch - 1ms/step\n",
            "\n",
            "Test Loss: 0.010790906846523285\n"
          ]
        }
      ]
    }
  ]
}